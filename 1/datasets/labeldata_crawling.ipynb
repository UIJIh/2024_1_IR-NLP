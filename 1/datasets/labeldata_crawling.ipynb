{
 "cells": [
  {
   "cell_type": "code",
   "execution_count": 1,
   "id": "89155e73-3795-4566-8af9-3a27ab4fef25",
   "metadata": {
    "scrolled": true
   },
   "outputs": [
    {
     "name": "stdout",
     "output_type": "stream",
     "text": [
      "Found article before or on 2024.01.10, stopping...\n"
     ]
    }
   ],
   "source": [
    "# 1. 총선\n",
    "\n",
    "from bs4 import BeautifulSoup\n",
    "from selenium import webdriver\n",
    "from selenium.webdriver.common.by import By\n",
    "from selenium.webdriver.support.ui import WebDriverWait\n",
    "from selenium.webdriver.support import expected_conditions as EC\n",
    "import time\n",
    "\n",
    "def generate_url(page_number):\n",
    "    p_value = (page_number - 1) * 10 + 1\n",
    "    return base_url.format(p_value)\n",
    "    \n",
    "query_1 = []\n",
    "end_flg = 0\n",
    "start_time = time.time()\n",
    "\n",
    "for i in range(10000):\n",
    "    if end_flg:\n",
    "        break     \n",
    "    base_url = \"https://www.donga.com/news/search?p={}&query=총선&check_news=91&sorting=1&search_date=1&v1=&v2=&more=1\"\n",
    "    url = generate_url(i+1)\n",
    "    driver = webdriver.Chrome()\n",
    "    driver.get(url)    \n",
    "    time.sleep(1)  \n",
    "\n",
    "    html = driver.page_source\n",
    "    driver.quit()\n",
    "    \n",
    "    soup = BeautifulSoup(html, 'html.parser')\n",
    "    \n",
    "    articles = soup.find_all('h4', class_='tit')\n",
    "    dates = soup.find_all('span', class_='date')\n",
    "\n",
    "    for article, date_span in zip(articles, dates):\n",
    "        date_text = date_span.get_text(strip=True)\n",
    "        #print(date_text)\n",
    "\n",
    "        if date_text == \"2024-01-10\" or date_text == \"2024-01-09\" or date_text == \"2024-01-08\" or date_text == \"2024-01-07\":\n",
    "            end_flg = True\n",
    "            print(f\"Found article before or on 2024.01.10, stopping...\")\n",
    "            break\n",
    "            \n",
    "        a_tag = article.find('a')\n",
    "        if a_tag:\n",
    "            link = a_tag['href']\n",
    "            title = a_tag.get_text()\n",
    "            query_1.append(title)  "
   ]
  },
  {
   "cell_type": "code",
   "execution_count": 2,
   "id": "8f32b518-afb4-4753-9c59-3c78c87bc155",
   "metadata": {},
   "outputs": [
    {
     "name": "stdout",
     "output_type": "stream",
     "text": [
      "Found article before or on 2024.01.10, stopping...\n"
     ]
    }
   ],
   "source": [
    "# 2. 선거\n",
    "\n",
    "def generate_url(page_number):\n",
    "    p_value = (page_number - 1) * 10 + 1\n",
    "    return base_url.format(p_value)\n",
    "\n",
    "query_2 = []\n",
    "end_flg = 0\n",
    "\n",
    "for i in range(10000):\n",
    "    if end_flg:\n",
    "        break\n",
    "    base_url = \"https://www.donga.com/news/search?p={}&query=%EC%84%A0%EA%B1%B0&check_news=91&sorting=1&search_date=1&v1=&v2=&more=1\"\n",
    "    url = generate_url(i+1)\n",
    "    driver = webdriver.Chrome()\n",
    "    driver.get(url)\n",
    "    time.sleep(1)\n",
    "\n",
    "    html = driver.page_source\n",
    "    driver.quit()\n",
    "\n",
    "    soup = BeautifulSoup(html, 'html.parser')\n",
    "\n",
    "    articles = soup.find_all('h4', class_='tit')\n",
    "    dates = soup.find_all('span', class_='date')\n",
    "\n",
    "    for article, date_span in zip(articles, dates):\n",
    "        date_text = date_span.get_text(strip=True)\n",
    "        #print(date_text)\n",
    "        \n",
    "        if date_text == \"2024-01-10\" or date_text == \"2024-01-09\" or date_text == \"2024-01-08\" or date_text == \"2024-01-07\":\n",
    "            end_flg = True\n",
    "            print(f\"Found article before or on 2024.01.10, stopping...\")\n",
    "            break\n",
    "            \n",
    "        a_tag = article.find('a')\n",
    "        if a_tag:\n",
    "            link = a_tag['href']\n",
    "            title = a_tag.get_text()\n",
    "            query_2.append(title)  "
   ]
  },
  {
   "cell_type": "code",
   "execution_count": 3,
   "id": "7042a3bd-eb10-45e3-8d0b-9eb5d1f36732",
   "metadata": {},
   "outputs": [
    {
     "name": "stdout",
     "output_type": "stream",
     "text": [
      "Found article before or on 2024.01.10, stopping...\n"
     ]
    }
   ],
   "source": [
    "# 3. 제22대+국회의원선거\n",
    "\n",
    "def generate_url(page_number):\n",
    "    p_value = (page_number - 1) * 10 + 1\n",
    "    return base_url.format(p_value)\n",
    "\n",
    "query_3 = []\n",
    "end_flg = 0\n",
    "\n",
    "for i in range(10000):\n",
    "    if end_flg:\n",
    "        break\n",
    "    base_url = \"https://www.donga.com/news/search?p={}&query=제22대+국회의원선거&check_news=1&more=1&sorting=1&search_date=1&v1=&v2=&range=1\"\n",
    "    url = generate_url(i+1)\n",
    "    driver = webdriver.Chrome()\n",
    "    driver.get(url)\n",
    "    time.sleep(1)\n",
    "\n",
    "    html = driver.page_source\n",
    "    driver.quit()\n",
    "\n",
    "    soup = BeautifulSoup(html, 'html.parser')\n",
    "\n",
    "    articles = soup.find_all('h4', class_='tit')\n",
    "    dates = soup.find_all('span', class_='date')\n",
    "\n",
    "    for article, date_span in zip(articles, dates):\n",
    "        date_text = date_span.get_text(strip=True)\n",
    "        #print(date_text)\n",
    "        \n",
    "        if date_text == \"2024-01-10\" or date_text == \"2024-01-09\" or date_text == \"2024-01-08\" or date_text == \"2024-01-07\":\n",
    "            end_flg = True\n",
    "            print(f\"Found article before or on 2024.01.10, stopping...\")\n",
    "            break\n",
    "            \n",
    "        a_tag = article.find('a')\n",
    "        if a_tag:\n",
    "            link = a_tag['href']\n",
    "            title = a_tag.get_text()\n",
    "            query_3.append(title)  "
   ]
  },
  {
   "cell_type": "code",
   "execution_count": 4,
   "id": "71c17f59-acf3-494c-b5c1-5997be21e813",
   "metadata": {},
   "outputs": [
    {
     "name": "stdout",
     "output_type": "stream",
     "text": [
      "Found article before or on 2024.01.10, stopping...\n"
     ]
    }
   ],
   "source": [
    "# 4. 4월%2010일%20투표\n",
    "\n",
    "def generate_url(page_number):\n",
    "    p_value = (page_number - 1) * 10 + 1\n",
    "    return base_url.format(p_value)\n",
    "\n",
    "query_4 = []\n",
    "end_flg = 0\n",
    "\n",
    "for i in range(10000):\n",
    "    if end_flg:\n",
    "        break\n",
    "    base_url = \"https://www.donga.com/news/search?p={}&query=4%EC%9B%94+10%EC%9D%BC+%ED%88%AC%ED%91%9C&check_news=91&sorting=1&search_date=1&v1=&v2=&more=1\"\n",
    "    url = generate_url(i+1)\n",
    "    driver = webdriver.Chrome()\n",
    "    driver.get(url)\n",
    "    time.sleep(1)\n",
    "\n",
    "    html = driver.page_source\n",
    "    driver.quit()\n",
    "\n",
    "    soup = BeautifulSoup(html, 'html.parser')\n",
    "\n",
    "    articles = soup.find_all('h4', class_='tit')\n",
    "    dates = soup.find_all('span', class_='date')\n",
    "\n",
    "    for article, date_span in zip(articles, dates):\n",
    "        date_text = date_span.get_text(strip=True)\n",
    "        #print(date_text)\n",
    "        \n",
    "        if date_text == \"2024-01-10\" or date_text == \"2024-01-09\" or date_text == \"2024-01-08\" or date_text == \"2024-01-07\":\n",
    "            end_flg = True\n",
    "            print(f\"Found article before or on 2024.01.10, stopping...\")\n",
    "            break\n",
    "            \n",
    "        a_tag = article.find('a')\n",
    "        if a_tag:\n",
    "            link = a_tag['href']\n",
    "            title = a_tag.get_text()\n",
    "            query_4.append(title)  "
   ]
  },
  {
   "cell_type": "code",
   "execution_count": 5,
   "id": "256c42de-62a7-4385-9c5c-f14585454452",
   "metadata": {},
   "outputs": [],
   "source": [
    "# 5. 문장\n",
    "\n",
    "def generate_url(page_number):\n",
    "    p_value = (page_number - 1) * 10 + 1\n",
    "    return base_url.format(p_value)\n",
    "\n",
    "query_5 = []\n",
    "end_flg = 0\n",
    "\n",
    "for i in range(1):\n",
    "    if end_flg:\n",
    "        break\n",
    "    base_url = \"https://www.donga.com/news/search?query=4%EC%9B%94%2010%EC%9D%BC%EC%9D%80%20%EC%A0%9C22%EB%8C%80%20%EA%B5%AD%ED%9A%8C%EC%9D%98%EC%9B%90%EC%84%A0%EA%B1%B0%EC%9D%BC%EC%9D%B4%EB%8B%A4&sorting=1&check_news=91&search_date=5&v1=20231213&v2=20240413&more=1\"\n",
    "    url = generate_url(i+1)\n",
    "    driver = webdriver.Chrome()\n",
    "    driver.get(url)\n",
    "    time.sleep(1)\n",
    "\n",
    "    html = driver.page_source\n",
    "    driver.quit()\n",
    "\n",
    "    soup = BeautifulSoup(html, 'html.parser')\n",
    "\n",
    "    articles = soup.find_all('h4', class_='tit')\n",
    "    dates = soup.find_all('span', class_='date')\n",
    "\n",
    "    for article, date_span in zip(articles, dates):\n",
    "        date_text = date_span.get_text(strip=True)\n",
    "        #print(date_text)\n",
    "                   \n",
    "        a_tag = article.find('a')\n",
    "        if a_tag:\n",
    "            link = a_tag['href']\n",
    "            title = a_tag.get_text()\n",
    "            query_5.append(title)                 "
   ]
  },
  {
   "cell_type": "code",
   "execution_count": 6,
   "id": "b0134ab4-1634-4896-9cda-d9fd3043ef3a",
   "metadata": {},
   "outputs": [
    {
     "data": {
      "text/plain": [
       "['‘투표는 국민의힘’ 문구 넣어 식단표 배포한 초등학교',\n",
       " '총선 D-30 “아동의 목소리도 들어주길” [청계천 옆 사진관]',\n",
       " '김천시, ‘공직선거법 교육 진행’…읍면동장 대상',\n",
       " '사전투표용지에 관리관 도장, ‘인쇄’ 말고 ‘직접 날인’해야[기고/김민호]']"
      ]
     },
     "execution_count": 6,
     "metadata": {},
     "output_type": "execute_result"
    }
   ],
   "source": [
    "query_5"
   ]
  },
  {
   "cell_type": "code",
   "execution_count": 7,
   "id": "e305ec60-1b77-412d-b56a-b51e401d8294",
   "metadata": {},
   "outputs": [
    {
     "name": "stdout",
     "output_type": "stream",
     "text": [
      "3802 3579 238 56 4\n"
     ]
    }
   ],
   "source": [
    "print(len(query_1), len(query_2), len(query_3), len(query_4), len(query_5))"
   ]
  },
  {
   "cell_type": "code",
   "execution_count": 10,
   "id": "1c3cc5f0-a770-49d1-add4-fa22709362e7",
   "metadata": {},
   "outputs": [
    {
     "data": {
      "text/html": [
       "<div>\n",
       "<style scoped>\n",
       "    .dataframe tbody tr th:only-of-type {\n",
       "        vertical-align: middle;\n",
       "    }\n",
       "\n",
       "    .dataframe tbody tr th {\n",
       "        vertical-align: top;\n",
       "    }\n",
       "\n",
       "    .dataframe thead th {\n",
       "        text-align: right;\n",
       "    }\n",
       "</style>\n",
       "<table border=\"1\" class=\"dataframe\">\n",
       "  <thead>\n",
       "    <tr style=\"text-align: right;\">\n",
       "      <th></th>\n",
       "      <th>category</th>\n",
       "      <th>title</th>\n",
       "      <th>date</th>\n",
       "      <th>article</th>\n",
       "    </tr>\n",
       "  </thead>\n",
       "  <tbody>\n",
       "    <tr>\n",
       "      <th>0</th>\n",
       "      <td>Politics</td>\n",
       "      <td>조태열-블링컨 첫 통화…“한미 동맹 더욱 심화·발전”</td>\n",
       "      <td>2024/01/11 23:33</td>\n",
       "      <td>취임 인사 겸한 유선 협의…\"북 도발·북러 밀착 규탄\"조태열 외교부 장관은 11일 ...</td>\n",
       "    </tr>\n",
       "    <tr>\n",
       "      <th>1</th>\n",
       "      <td>Politics</td>\n",
       "      <td>조국 “민주, 총선서 포용력 발휘해 반윤연대 꾸려야”</td>\n",
       "      <td>2024/01/11 23:18</td>\n",
       "      <td>정책 싱크탱크 '리셋코리아행동' 준비 세미나 개최조국, 이낙연 탈당에 \"윤 반대 역...</td>\n",
       "    </tr>\n",
       "    <tr>\n",
       "      <th>2</th>\n",
       "      <td>Politics</td>\n",
       "      <td>‘재산신고 누락’ 이균용 전 대법원장 후보자 경고 처분</td>\n",
       "      <td>2024/01/11 22:41</td>\n",
       "      <td>비상장주식 약 10억원 신고 누락배당금 수령 등 논란 커지다 낙마비상장주식 재산을 ...</td>\n",
       "    </tr>\n",
       "    <tr>\n",
       "      <th>3</th>\n",
       "      <td>Politics</td>\n",
       "      <td>민주 윤리감찰단, ‘성희롱 발언 논란’ 현근택 대면 조사</td>\n",
       "      <td>2024/01/11 22:41</td>\n",
       "      <td>현근택 \"피해자 측으로부터 불출마 요구 받아\" 진술더불어민주당 윤리감찰단이 성희롱 ...</td>\n",
       "    </tr>\n",
       "    <tr>\n",
       "      <th>4</th>\n",
       "      <td>Politics</td>\n",
       "      <td>대통령실 “가장 중요한건 물가 안정…의료·주거 생계비 줄일 것”</td>\n",
       "      <td>2024/01/11 22:41</td>\n",
       "      <td>성태윤 신임 대통령실 정책실장이 28일 용산 대통령실 브리핑룸에서 임명 소감을 밝히...</td>\n",
       "    </tr>\n",
       "    <tr>\n",
       "      <th>...</th>\n",
       "      <td>...</td>\n",
       "      <td>...</td>\n",
       "      <td>...</td>\n",
       "      <td>...</td>\n",
       "    </tr>\n",
       "    <tr>\n",
       "      <th>4647</th>\n",
       "      <td>Politics</td>\n",
       "      <td>선관위 “본투표서도 대파·일제 샴푸 반입 안돼”</td>\n",
       "      <td>2024/04/10 10:52</td>\n",
       "      <td>정치적 목적' 반입 불가 동일 기준 적용ⓒ뉴시스중앙선거관리위원회는 4·10 총선 사...</td>\n",
       "    </tr>\n",
       "    <tr>\n",
       "      <th>4648</th>\n",
       "      <td>Politics</td>\n",
       "      <td>한동훈 “젖먹던 힘까지 투표 독려” 이재명 “1어나서 투표할 시간”</td>\n",
       "      <td>2024/04/10 11:35</td>\n",
       "      <td>한동훈(왼쪽부터) 국민의힘 비상대책위원장·이재명 더불어민주당 대표·이준석 개혁신당 ...</td>\n",
       "    </tr>\n",
       "    <tr>\n",
       "      <th>4649</th>\n",
       "      <td>Politics</td>\n",
       "      <td>‘옥중 출마’ 송영길 소나무당 대표 배우자 광주 자택 인근서 투표</td>\n",
       "      <td>2024/04/10 10:48</td>\n",
       "      <td>송영길 소나무당 대표의 부인인 남영신씨가 10일 오전 광주 서구 내방마을 주공아파트...</td>\n",
       "    </tr>\n",
       "    <tr>\n",
       "      <th>4650</th>\n",
       "      <td>Politics</td>\n",
       "      <td>조국 “YTN 조국혁신당 번호 9번 아닌 10번으로…분노”</td>\n",
       "      <td>2024/04/10 10:27</td>\n",
       "      <td>ⓒ뉴시스보도전문채널 YTN이 조국혁신당의 비례대표 정당 기호를 9번이 아닌 10번으...</td>\n",
       "    </tr>\n",
       "    <tr>\n",
       "      <th>4651</th>\n",
       "      <td>Politics</td>\n",
       "      <td>오전 10시 투표율 10.4%…지난 총선보다 1%p 낮아</td>\n",
       "      <td>2024/04/10 10:42</td>\n",
       "      <td>제22대 국회의원선거 투표일인 10일 오전 서울 용산구 중부기술교육원에 마련된 한남...</td>\n",
       "    </tr>\n",
       "  </tbody>\n",
       "</table>\n",
       "<p>4652 rows × 4 columns</p>\n",
       "</div>"
      ],
      "text/plain": [
       "      category                                  title              date  \\\n",
       "0     Politics          조태열-블링컨 첫 통화…“한미 동맹 더욱 심화·발전”  2024/01/11 23:33   \n",
       "1     Politics          조국 “민주, 총선서 포용력 발휘해 반윤연대 꾸려야”  2024/01/11 23:18   \n",
       "2     Politics         ‘재산신고 누락’ 이균용 전 대법원장 후보자 경고 처분  2024/01/11 22:41   \n",
       "3     Politics        민주 윤리감찰단, ‘성희롱 발언 논란’ 현근택 대면 조사  2024/01/11 22:41   \n",
       "4     Politics    대통령실 “가장 중요한건 물가 안정…의료·주거 생계비 줄일 것”  2024/01/11 22:41   \n",
       "...        ...                                    ...               ...   \n",
       "4647  Politics             선관위 “본투표서도 대파·일제 샴푸 반입 안돼”  2024/04/10 10:52   \n",
       "4648  Politics  한동훈 “젖먹던 힘까지 투표 독려” 이재명 “1어나서 투표할 시간”  2024/04/10 11:35   \n",
       "4649  Politics   ‘옥중 출마’ 송영길 소나무당 대표 배우자 광주 자택 인근서 투표  2024/04/10 10:48   \n",
       "4650  Politics       조국 “YTN 조국혁신당 번호 9번 아닌 10번으로…분노”  2024/04/10 10:27   \n",
       "4651  Politics        오전 10시 투표율 10.4%…지난 총선보다 1%p 낮아  2024/04/10 10:42   \n",
       "\n",
       "                                                article  \n",
       "0     취임 인사 겸한 유선 협의…\"북 도발·북러 밀착 규탄\"조태열 외교부 장관은 11일 ...  \n",
       "1     정책 싱크탱크 '리셋코리아행동' 준비 세미나 개최조국, 이낙연 탈당에 \"윤 반대 역...  \n",
       "2     비상장주식 약 10억원 신고 누락배당금 수령 등 논란 커지다 낙마비상장주식 재산을 ...  \n",
       "3     현근택 \"피해자 측으로부터 불출마 요구 받아\" 진술더불어민주당 윤리감찰단이 성희롱 ...  \n",
       "4     성태윤 신임 대통령실 정책실장이 28일 용산 대통령실 브리핑룸에서 임명 소감을 밝히...  \n",
       "...                                                 ...  \n",
       "4647  정치적 목적' 반입 불가 동일 기준 적용ⓒ뉴시스중앙선거관리위원회는 4·10 총선 사...  \n",
       "4648  한동훈(왼쪽부터) 국민의힘 비상대책위원장·이재명 더불어민주당 대표·이준석 개혁신당 ...  \n",
       "4649  송영길 소나무당 대표의 부인인 남영신씨가 10일 오전 광주 서구 내방마을 주공아파트...  \n",
       "4650  ⓒ뉴시스보도전문채널 YTN이 조국혁신당의 비례대표 정당 기호를 9번이 아닌 10번으...  \n",
       "4651  제22대 국회의원선거 투표일인 10일 오전 서울 용산구 중부기술교육원에 마련된 한남...  \n",
       "\n",
       "[4652 rows x 4 columns]"
      ]
     },
     "execution_count": 10,
     "metadata": {},
     "output_type": "execute_result"
    }
   ],
   "source": [
    "import pandas as pd\n",
    "dataset = pd.read_csv('Korea_DB_0413.csv', encoding='CP949')\n",
    "dataset"
   ]
  },
  {
   "cell_type": "code",
   "execution_count": 13,
   "id": "0080947f-1cbd-4c55-a6e8-e9fa2aba57e6",
   "metadata": {},
   "outputs": [
    {
     "name": "stdout",
     "output_type": "stream",
     "text": [
      "1937\n",
      "1694\n",
      "138\n",
      "21\n",
      "1\n"
     ]
    }
   ],
   "source": [
    "# 정치면만 고름 (데이터셋에서 고름)\n",
    "filtered_ground_truths = [[item for item in query if item in dataset['title'].values] for query in articles]\n",
    "\n",
    "for item in filtered_ground_truths:\n",
    "    print(len(item))"
   ]
  },
  {
   "cell_type": "code",
   "execution_count": 12,
   "id": "2b9a6953-4538-49a6-b42e-7037061317c7",
   "metadata": {},
   "outputs": [],
   "source": [
    "import csv\n",
    "\n",
    "file_path = ['총선.csv', '선거.csv', '제22대_국회의원선거.csv', '4월_10일_투표.csv', '문장.csv']\n",
    "\n",
    "for i in range(len(file_path)):\n",
    "    with open(file_path[i], mode='w', newline='', encoding='utf-8') as file:\n",
    "        writer = csv.writer(file)\n",
    "        for article in filtered_ground_truths[i]:\n",
    "            writer.writerow([article])"
   ]
  },
  {
   "cell_type": "code",
   "execution_count": 199,
   "id": "46939c45-0158-43d7-a39e-6ca017ee6da2",
   "metadata": {},
   "outputs": [
    {
     "name": "stdout",
     "output_type": "stream",
     "text": [
      "==================== result < 1 > ====================\n",
      "Precision: 0.00, Recall: 0.00\n",
      "F1 Score: 0.00\n",
      "\n",
      "==================== result < 2 > ====================\n",
      "Precision: 0.00, Recall: 0.00\n",
      "F1 Score: 0.00\n",
      "\n",
      "==================== result < 3 > ====================\n",
      "Precision: 0.00, Recall: 0.00\n",
      "F1 Score: 0.00\n",
      "\n",
      "==================== result < 4 > ====================\n",
      "Precision: 0.00, Recall: 0.00\n",
      "F1 Score: 0.00\n",
      "\n",
      "==================== result < 5 > ====================\n",
      "Precision: 0.00, Recall: 0.00\n",
      "F1 Score: 0.00\n",
      "\n",
      "Average Precision: 0.00\n",
      "Average Recall: 0.00\n",
      "Average F1 Score: 0.00\n"
     ]
    }
   ],
   "source": [
    "def calculate_precision_recall(ground_truth, model_results):\n",
    "    true_positives = ground_truth.intersection(model_results)\n",
    "    precision = len(true_positives) / len(model_results) if model_results else 0\n",
    "    recall = len(true_positives) / len(ground_truth) if ground_truth else 0\n",
    "    return precision, recall\n",
    "\n",
    "def calculate_f1_score(precision, recall):\n",
    "    if precision + recall == 0:\n",
    "        return 0\n",
    "    f1_score = 2 * (precision * recall) / (precision + recall)\n",
    "    return f1_score\n",
    "\n",
    "ground_truths = [\n",
    "    set(query_1),\n",
    "    set(query_2),\n",
    "    set(query_3),\n",
    "    set(query_4),\n",
    "    set(query_5)\n",
    "]\n",
    "\n",
    "model_results_list = [\n",
    "    set([\"문서1\", \"문서3\", \"문서5\"]),\n",
    "    set([\"문서2\", \"문서3\"]),\n",
    "    set([\"문서5\", \"문서6\", \"문서7\"]),\n",
    "    set([\"문서8\", \"문서9\", \"문서10\"]),\n",
    "    set([\"문서11\", \"문서12\"])\n",
    "]\n",
    "\n",
    "results = []\n",
    "\n",
    "for i in range(5):\n",
    "    ground_truth = ground_truths[i]\n",
    "    model_results = model_results_list[i]\n",
    "\n",
    "    precision, recall = calculate_precision_recall(ground_truth, model_results)\n",
    "    f1_score = calculate_f1_score(precision, recall)\n",
    "\n",
    "    print(f\"==================== result < {i+1} > ====================\")\n",
    "    print(f\"Precision: {precision:.2f}, Recall: {recall:.2f}\")\n",
    "    print(f\"F1 Score: {f1_score:.2f}\\n\")\n",
    "    results.append((precision, recall, f1_score))\n",
    "\n",
    "# Average\n",
    "average_precision = sum([result[0] for result in results]) / len(results)\n",
    "average_recall = sum([result[1] for result in results]) / len(results)\n",
    "average_f1_score = sum([result[2] for result in results]) / len(results)\n",
    "\n",
    "print(f\"Average Precision: {average_precision:.2f}\")\n",
    "print(f\"Average Recall: {average_recall:.2f}\")\n",
    "print(f\"Average F1 Score: {average_f1_score:.2f}\")\n",
    "\n",
    "average_results = [average_precision, average_recall, average_f1_score]"
   ]
  },
  {
   "cell_type": "code",
   "execution_count": 111,
   "id": "604b007e-61be-40e2-9e27-a3a8ed19efdb",
   "metadata": {},
   "outputs": [
    {
     "data": {
      "text/plain": [
       "[(0.0, 0.0, 0), (0.0, 0.0, 0), (0.0, 0.0, 0), (0.0, 0.0, 0), (0.0, 0.0, 0)]"
      ]
     },
     "execution_count": 111,
     "metadata": {},
     "output_type": "execute_result"
    }
   ],
   "source": [
    "results"
   ]
  },
  {
   "cell_type": "code",
   "execution_count": 200,
   "id": "7e4dd76c-c726-43a2-a67d-e83b459479c1",
   "metadata": {},
   "outputs": [
    {
     "data": {
      "text/plain": [
       "[0.0, 0.0, 0.0]"
      ]
     },
     "execution_count": 200,
     "metadata": {},
     "output_type": "execute_result"
    }
   ],
   "source": [
    "average_results"
   ]
  },
  {
   "cell_type": "markdown",
   "id": "1de6b322-b79a-4b7c-a164-c1b61660628b",
   "metadata": {},
   "source": [
    "프로젝트 목표가 \"한국의 사회적 사건 감지 방법\"에 관한 것이라면, '시간적 관련성(temporal relevance)'은 매우 중요한 평가 지표가 될 수 있습니다. 시간적 관련성은 수집된 데이터가 현재 또는 특정 시간대에 얼마나 관련이 있는지를 평가하는 것으로, 특히 사회적 사건 감지에서는 사건의 발생 시간이 중요한 요소 중 하나이기 때문입니다.\n",
    "\n",
    "제가 앞서 언급한 `evaluate_temporal_relevance` 함수는 시간적 관련성을 평가하기 위한 예시 코드입니다. 하지만 정확한 구현 코드를 제공하지 않았기 때문에, 여기서는 시간적 관련성을 평가하는 간단한 방법을 설명하고 코드 예시를 제공하겠습니다.\n",
    "\n",
    "시간적 관련성 평가 방법:\n",
    "1. 사건의 발생 시간과 문서의 게시 시간 간의 차이를 계산합니다.\n",
    "2. 시간 차이가 작을수록 더 높은 시간적 관련성 점수를 부여합니다.\n",
    "3. 이 점수를 통해 문서가 현재 또는 특정 시간대에 얼마나 관련이 있는지를 평가할 수 있습니다.\n",
    "\n",
    "간단한 시간적 관련성 평가 코드 예시:\n",
    "\n",
    "```python\n",
    "import pandas as pd\n",
    "from datetime import datetime, timedelta\n",
    "\n",
    "def evaluate_temporal_relevance(dataset, current_date):\n",
    "    scores = []\n",
    "    for index, row in dataset.iterrows():\n",
    "        # 문서의 날짜와 현재 날짜 간의 차이 계산\n",
    "        time_diff = current_date - row['date']\n",
    "        \n",
    "        # 차이를 기반으로 점수 계산 (여기서는 단순 예시로, 시간 차이가 작을수록 점수가 높습니다.)\n",
    "        # 실제로는 더 복잡한 계산이 필요할 수 있습니다.\n",
    "        score = max(0, 10 - time_diff.days)  # 10일 이내의 문서에 대해 점수 부여, 10일이 넘으면 0점\n",
    "        \n",
    "        scores.append((index, score))\n",
    "    return scores\n",
    "\n",
    "# 예시 데이터셋\n",
    "dataset = pd.DataFrame({\n",
    "    'date': pd.to_datetime(['2024-04-01', '2024-04-05', '2024-04-10']),\n",
    "    'title': ['뉴스 제목 1', '뉴스 제목 2', '뉴스 제목 3']\n",
    "})\n",
    "\n",
    "# 현재 날짜 설정\n",
    "current_date = datetime.strptime(\"2024-04-10\", \"%Y-%m-%d\")\n",
    "\n",
    "# 시간적 관련성 평가 실행\n",
    "temporal_relevance_scores = evaluate_temporal_relevance(dataset, current_date)\n",
    "\n",
    "# 결과 출력\n",
    "print(\"시간적 관련성 점수:\")\n",
    "for index, score in temporal_relevance_scores:\n",
    "    print(f\"문서 ID: {index}, 점수: {score}\")\n",
    "```\n",
    "\n",
    "이 코드는 각 문서의 게시 날짜와 현재 날짜(또는 특정 기준 날짜) 간의 차이를 계산하고, 그 차이를 바탕으로 시간적 관련성 점수를 부여합니다. 점수 계산 방식은 프로젝트의 목적과 필요에 따라 조정될 수 있습니다."
   ]
  }
 ],
 "metadata": {
  "kernelspec": {
   "display_name": "Python 3 (ipykernel)",
   "language": "python",
   "name": "python3"
  },
  "language_info": {
   "codemirror_mode": {
    "name": "ipython",
    "version": 3
   },
   "file_extension": ".py",
   "mimetype": "text/x-python",
   "name": "python",
   "nbconvert_exporter": "python",
   "pygments_lexer": "ipython3",
   "version": "3.12.3"
  }
 },
 "nbformat": 4,
 "nbformat_minor": 5
}
