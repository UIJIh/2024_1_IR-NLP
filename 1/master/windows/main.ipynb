{
 "cells": [
  {
   "cell_type": "code",
   "execution_count": null,
   "id": "2d38d643-60fd-4738-9d21-9c8425db9fdb",
   "metadata": {},
   "outputs": [
    {
     "name": "stderr",
     "output_type": "stream",
     "text": [
      "Exception in Tkinter callback\n",
      "Traceback (most recent call last):\n",
      "  File \"C:\\Users\\의준\\AppData\\Local\\Programs\\Python\\Python312\\Lib\\tkinter\\__init__.py\", line 1967, in __call__\n",
      "    return self.func(*args)\n",
      "           ^^^^^^^^^^^^^^^^\n",
      "  File \"C:\\conda\\master\\windows\\boolean.py\", line 121, in show_graph\n",
      "    draw_graph(self.results)\n",
      "  File \"C:\\conda\\master\\windows\\..\\utils\\graph.py\", line 10, in draw_graph\n",
      "    for doc in search_result:\n",
      "TypeError: 'NoneType' object is not iterable\n",
      "Exception in Tkinter callback\n",
      "Traceback (most recent call last):\n",
      "  File \"C:\\Users\\의준\\AppData\\Local\\Programs\\Python\\Python312\\Lib\\tkinter\\__init__.py\", line 1967, in __call__\n",
      "    return self.func(*args)\n",
      "           ^^^^^^^^^^^^^^^^\n",
      "  File \"C:\\conda\\master\\windows\\vector.py\", line 122, in show_graph\n",
      "    draw_graph(self.results)\n",
      "  File \"C:\\conda\\master\\windows\\..\\utils\\graph.py\", line 11, in draw_graph\n",
      "    date = int(documents[doc]['date'][8:10])\n",
      "               ^^^^^^^^^\n",
      "NameError: name 'documents' is not defined\n"
     ]
    }
   ],
   "source": [
    "import sys\n",
    "sys.path.append('..')\n",
    "from windows.root import * \n",
    "main()"
   ]
  },
  {
   "cell_type": "code",
   "execution_count": null,
   "id": "2a8c84b3-437d-401c-b2fb-19ac30505cac",
   "metadata": {},
   "outputs": [],
   "source": []
  }
 ],
 "metadata": {
  "kernelspec": {
   "display_name": "Python 3 (ipykernel)",
   "language": "python",
   "name": "python3"
  },
  "language_info": {
   "codemirror_mode": {
    "name": "ipython",
    "version": 3
   },
   "file_extension": ".py",
   "mimetype": "text/x-python",
   "name": "python",
   "nbconvert_exporter": "python",
   "pygments_lexer": "ipython3",
   "version": "3.12.3"
  }
 },
 "nbformat": 4,
 "nbformat_minor": 5
}
