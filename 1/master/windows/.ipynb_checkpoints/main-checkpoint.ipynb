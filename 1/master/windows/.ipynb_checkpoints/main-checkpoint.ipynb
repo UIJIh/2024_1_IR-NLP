{
 "cells": [
  {
   "cell_type": "code",
   "execution_count": null,
   "id": "2d38d643-60fd-4738-9d21-9c8425db9fdb",
   "metadata": {},
   "outputs": [
    {
     "name": "stderr",
     "output_type": "stream",
     "text": [
      "Exception in Tkinter callback\n",
      "Traceback (most recent call last):\n",
      "  File \"C:\\Neuer Ordner\\lib\\tkinter\\__init__.py\", line 1892, in __call__\n",
      "    return self.func(*args)\n",
      "  File \"C:\\Users\\황의지\\2024_1_IRNLP-t-\\HW1\\master\\windows\\boolean.py\", line 59, in search\n",
      "    self.show_search_results(query)\n",
      "  File \"C:\\Users\\황의지\\2024_1_IRNLP-t-\\HW1\\master\\windows\\boolean.py\", line 74, in show_search_results\n",
      "    keywords = extract_keywords(self.documents[doc_id]['article'])\n",
      "  File \"C:\\Users\\황의지\\2024_1_IRNLP-t-\\HW1\\master\\windows\\..\\models\\booleanModel.py\", line 44, in extract_keywords\n",
      "    okt = Okt()\n",
      "  File \"C:\\Neuer Ordner\\lib\\site-packages\\konlpy\\tag\\_okt.py\", line 51, in __init__\n",
      "    jvm.init_jvm(jvmpath, max_heap_size)\n",
      "  File \"C:\\Neuer Ordner\\lib\\site-packages\\konlpy\\jvm.py\", line 55, in init_jvm\n",
      "    jvmpath = jvmpath or jpype.getDefaultJVMPath()\n",
      "  File \"C:\\Neuer Ordner\\lib\\site-packages\\jpype\\_jvmfinder.py\", line 74, in getDefaultJVMPath\n",
      "    return finder.get_jvm_path()\n",
      "  File \"C:\\Neuer Ordner\\lib\\site-packages\\jpype\\_jvmfinder.py\", line 212, in get_jvm_path\n",
      "    raise JVMNotFoundException(\"No JVM shared library file ({0}) \"\n",
      "jpype._jvmfinder.JVMNotFoundException: No JVM shared library file (jvm.dll) found. Try setting up the JAVA_HOME environment variable properly.\n"
     ]
    }
   ],
   "source": [
    "import sys\n",
    "sys.path.append('..')\n",
    "from windows.root import * \n",
    "main()"
   ]
  },
  {
   "cell_type": "code",
   "execution_count": null,
   "id": "2a8c84b3-437d-401c-b2fb-19ac30505cac",
   "metadata": {},
   "outputs": [],
   "source": [
    "pip install konlpy"
   ]
  },
  {
   "cell_type": "code",
   "execution_count": null,
   "id": "486409b9",
   "metadata": {},
   "outputs": [],
   "source": []
  }
 ],
 "metadata": {
  "kernelspec": {
   "display_name": "Python 3 (ipykernel)",
   "language": "python",
   "name": "python3"
  },
  "language_info": {
   "codemirror_mode": {
    "name": "ipython",
    "version": 3
   },
   "file_extension": ".py",
   "mimetype": "text/x-python",
   "name": "python",
   "nbconvert_exporter": "python",
   "pygments_lexer": "ipython3",
   "version": "3.9.16"
  }
 },
 "nbformat": 4,
 "nbformat_minor": 5
}
