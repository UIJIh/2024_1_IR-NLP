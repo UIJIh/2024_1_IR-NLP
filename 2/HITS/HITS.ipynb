{
 "cells": [
  {
   "cell_type": "code",
   "execution_count": null,
   "id": "3ab3a9a9-f7cd-411e-be43-e00634d0be11",
   "metadata": {},
   "outputs": [],
   "source": [
    "import pandas as pd\n",
    "import networkx as nx\n",
    "\n",
    "def hits_algorithm(df):\n",
    "    G = nx.DiGraph()\n",
    "    \n",
    "    # 그래프에 엣지 추가\n",
    "    for idx, links in zip(df['idx'], df['link_idx']):\n",
    "        links = [int(item) for item in links if item.isdigit()]\n",
    "        for link in links:\n",
    "            if link != 0:\n",
    "                G.add_edge(idx, link)\n",
    "    \n",
    "    # HITS 알고리즘 실행\n",
    "    hubs, authorities = nx.hits(G)\n",
    "    \n",
    "    return hubs, authorities\n",
    "\n",
    "def main():\n",
    "    df = pd.read_csv('df_links.csv')\n",
    "    # HITS 알고리즘 실행\n",
    "    hubs, authorities = hits_algorithm(df)\n",
    "    print(len(hubs), len(authorities))\n",
    "    \n",
    "    # 결과 출력\n",
    "    print(\"=====================HITS=====================\")\n",
    "    print(hubs)\n",
    "    print()\n",
    "    print()\n",
    "    print(authorities)\n",
    "\n",
    "if __name__ == \"__main__\":\n",
    "    main()"
   ]
  },
  {
   "cell_type": "code",
   "execution_count": null,
   "id": "664263aa-bf5b-4c54-a017-bc620d984fb7",
   "metadata": {},
   "outputs": [],
   "source": [
    "    df = pd.read_csv('df_links.csv')\n",
    "    # HITS 알고리즘 실행\n",
    "    hubs, authorities = hits_algorithm(df)\n",
    "    print(len(hubs), len(authorities))\n",
    "    \n",
    "    # 결과 출력\n",
    "    print(\"=====================HITS=====================\")\n",
    "    print(hubs)\n",
    "    print()\n",
    "    print()\n",
    "    print(authorities)"
   ]
  },
  {
   "cell_type": "code",
   "execution_count": null,
   "id": "4d553b0b-8db4-446c-8a14-a40b5d7af017",
   "metadata": {},
   "outputs": [],
   "source": [
    "hubs_df = pd.DataFrame(list(hubs.items()), columns=['idx', 'hub_score'])\n",
    "authorities_df = pd.DataFrame(list(authorities.items()), columns=['idx', 'authority_score'])\n",
    "print(hubs_df.sort_values(by='hub_score', ascending=False))\n",
    "print()\n",
    "print()\n",
    "print(authorities_df.sort_values(by='authority_score', ascending=False))"
   ]
  },
  {
   "cell_type": "code",
   "execution_count": null,
   "id": "04cee9c4-13dc-40d5-9e2c-808ad3d0155a",
   "metadata": {},
   "outputs": [],
   "source": [
    "print(hubs_df.sort_values(by='hub_score', ascending=True))\n",
    "print()\n",
    "print()\n",
    "print(authorities_df.sort_values(by='authority_score', ascending=True))"
   ]
  },
  {
   "cell_type": "code",
   "execution_count": null,
   "id": "89c3f1cf-1d9b-4249-811a-294d7f02c86a",
   "metadata": {},
   "outputs": [],
   "source": [
    "df"
   ]
  },
  {
   "cell_type": "code",
   "execution_count": null,
   "id": "29b57b8d-e04f-46fa-a8d9-b3714057f08f",
   "metadata": {},
   "outputs": [],
   "source": [
    "def HITS(G):\n",
    "    # initialize all authority and hub. to 1\n",
    "    hub_dict  =  {u: 1.0 for u in G}\n",
    "    auth_dict = {u: 1.0 for u in G}\n",
    "    # iteration\n",
    "    for _ in range(0, 100):\n",
    "        # udpate authority: sum of its in-edge node hub\n",
    "        for u in G:\n",
    "            auth_dict[u] = sum([hub_dict[v] for v in G.predecessors(u)])\n",
    "        # update hub: sum of its out-edge node authority\n",
    "        for u in G:\n",
    "            hub_dict[u] = sum([auth_dict[v] for v in G.successors(u)])\n",
    "        # normalized hub dictionary\n",
    "        #hub_norm = np.sqrt(np.sum([v**2 for v in hub_dict.values()]))\n",
    "        hub_norm = max(hub_dict.values())\n",
    "        hub_dict = {k: v/hub_norm for k, v in hub_dict.items()}\n",
    "        # normalized authority dictionary\n",
    "        #auth_norm = np.sqrt(np.sum([v**2 for v in auth_dict.values()]))\n",
    "        auth_norm = max(auth_dict.values())\n",
    "        auth_dict = {k: v / auth_norm for k, v in auth_dict.items()}"
   ]
  },
  {
   "cell_type": "code",
   "execution_count": null,
   "id": "db909fe1-fb09-4309-8544-7ee19af6f541",
   "metadata": {
    "scrolled": true
   },
   "outputs": [],
   "source": [
    "df = pd.read_csv('df_links.csv')\n",
    "\n",
    "DG = nx.DiGraph()\n",
    "\n",
    "for idx, links in zip(df['idx'], df['link_idx']):\n",
    "    links = [int(item) for item in links if item.isdigit()]\n",
    "    for link in links:\n",
    "        if link != 0:\n",
    "            DG.add_edge(idx, link)\n",
    "        \n",
    "assert nx.is_weakly_connected(DG) == True\n",
    "\n",
    "def custom_HITS(G):\n",
    "    # initialize all authority and hub. to 1\n",
    "    hub_dict  =  {u: 1.0 for u in G}\n",
    "    auth_dict = {u: 1.0 for u in G}\n",
    "    max_iter = 10**2\n",
    "    for _ in range(0, max_iter):\n",
    "        # udpate authority: sum of its in-edge node hub\n",
    "        for u in G:\n",
    "            auth_dict[u] = sum([hub_dict[v] for v in G.predecessors(u)])\n",
    "        # update hub: sum of its out-edge node authority\n",
    "        for u in G:\n",
    "            hub_dict[u] = sum([auth_dict[v] for v in G.successors(u)])\n",
    "        # normalized hub dictionary\n",
    "        #hub_norm = np.sqrt(np.sum([v**2 for v in hub_dict.values()]))\n",
    "        hub_norm = max(hub_dict.values())\n",
    "        hub_dict = {k: v/hub_norm for k, v in hub_dict.items()}\n",
    "        # normalized authority dictionary\n",
    "        #auth_norm = np.sqrt(np.sum([v**2 for v in auth_dict.values()]))\n",
    "        auth_norm = max(auth_dict.values())\n",
    "        auth_dict = {k: v / auth_norm for k, v in auth_dict.items()}\n",
    "    return (hub_dict, auth_dict)\n",
    "\n",
    "def np_normalize_dict(input_dict):\n",
    "    norm = np.linalg.norm(list(input_dict.values()))\n",
    "    return {k: v/norm for k, v in input_dict.items()}\n",
    "\n",
    "#############################################\n",
    "nx_hub_dict, nx_auth_dict    = nx.hits(DG)\n",
    "cus_hub_dict, cus_auth_dict = custom_HITS(DG)\n",
    "\n",
    "# normalized by np.norm\n",
    "nx_hub_dict = np_normalize_dict(nx_hub_dict)\n",
    "nx_auth_dict = np_normalize_dict(nx_auth_dict)\n",
    "cus_hub_dict = np_normalize_dict(cus_hub_dict)\n",
    "cus_auth_dict = np_normalize_dict(cus_auth_dict)\n",
    "\n",
    "print(\"== nx authority, hub dictionary \")\n",
    "print(nx_auth_dict)\n",
    "print(nx_hub_dict)"
   ]
  },
  {
   "cell_type": "code",
   "execution_count": null,
   "id": "3c671fbd-4a95-4abb-9272-b66739ba0a0d",
   "metadata": {
    "scrolled": true
   },
   "outputs": [],
   "source": [
    "print(\"== custom authority, hub dictionary \")\n",
    "print(cus_auth_dict)\n",
    "print(cus_hub_dict)"
   ]
  },
  {
   "cell_type": "code",
   "execution_count": null,
   "id": "ecb652d8-5e09-468c-b3cc-d9bb0f7e3892",
   "metadata": {
    "scrolled": true
   },
   "outputs": [],
   "source": [
    "hubs_df = pd.DataFrame(list(cus_hub_dict.items()), columns=['idx', 'hub_score'])\n",
    "authorities_df = pd.DataFrame(list(cus_auth_dict.items()), columns=['idx', 'authority_score'])\n",
    "print(hubs_df.sort_values(by='hub_score', ascending=False))\n",
    "print()\n",
    "print()\n",
    "print(authorities_df.sort_values(by='authority_score', ascending=False))"
   ]
  },
  {
   "cell_type": "code",
   "execution_count": null,
   "id": "e74d96ed-aef1-4a05-9748-cd7e7c38bbad",
   "metadata": {},
   "outputs": [],
   "source": [
    "print(hubs_df.sort_values(by='hub_score', ascending=True))\n",
    "print()\n",
    "print()\n",
    "print(authorities_df.sort_values(by='authority_score', ascending=True))"
   ]
  },
  {
   "cell_type": "code",
   "execution_count": null,
   "id": "9f2540ed-8a1e-4a74-9e4b-e52311053f9d",
   "metadata": {
    "scrolled": true
   },
   "outputs": [],
   "source": [
    "import matplotlib.pyplot as plt\n",
    "\n",
    "plt.figure(figsize=(10, 8))\n",
    "pos = nx.spring_layout(DG)\n",
    "nx.draw(DG, pos, with_labels=True, node_size=3000, node_color=\"skyblue\", font_size=10, font_color=\"black\", arrowsize=20)\n",
    "plt.title(\"Directed Graph\")\n",
    "plt.show()"
   ]
  },
  {
   "cell_type": "code",
   "execution_count": null,
   "id": "933c46aa-f1b5-4909-96fe-2ed63a7e8b97",
   "metadata": {},
   "outputs": [],
   "source": [
    "DG = nx.DiGraph()\n",
    "\n",
    "# 22개만\n",
    "#df = df[:22]\n",
    "#df = pd.read_csv('df_links.csv')\n",
    "for idx, links in zip(df['idx'], df['link_idx']):\n",
    "    links = [int(item) for item in links if item.isdigit()]\n",
    "    for link in links:\n",
    "        if link != 0:\n",
    "            DG.add_edge(idx, link)\n",
    "        \n",
    "assert nx.is_weakly_connected(DG) == True\n",
    "\n",
    "def custom_HITS(G):\n",
    "    # initialize all authority and hub. to 1\n",
    "    hub_dict  =  {u: 1.0 for u in G}\n",
    "    auth_dict = {u: 1.0 for u in G}\n",
    "    max_iter = 10**2\n",
    "    for _ in range(0, max_iter):\n",
    "        # udpate authority: sum of its in-edge node hub\n",
    "        for u in G:\n",
    "            auth_dict[u] = sum([hub_dict[v] for v in G.predecessors(u)])\n",
    "        # update hub: sum of its out-edge node authority\n",
    "        for u in G:\n",
    "            hub_dict[u] = sum([auth_dict[v] for v in G.successors(u)])\n",
    "        # normalized hub dictionary\n",
    "        #hub_norm = np.sqrt(np.sum([v**2 for v in hub_dict.values()]))\n",
    "        hub_norm = max(hub_dict.values())\n",
    "        hub_dict = {k: v/hub_norm for k, v in hub_dict.items()}\n",
    "        # normalized authority dictionary\n",
    "        #auth_norm = np.sqrt(np.sum([v**2 for v in auth_dict.values()]))\n",
    "        auth_norm = max(auth_dict.values())\n",
    "        auth_dict = {k: v / auth_norm for k, v in auth_dict.items()}\n",
    "    return (hub_dict, auth_dict)\n",
    "\n",
    "def np_normalize_dict(input_dict):\n",
    "    norm = np.linalg.norm(list(input_dict.values()))\n",
    "    return {k: v/norm for k, v in input_dict.items()}\n",
    "\n",
    "#############################################\n",
    "nx_hub_dict, nx_auth_dict    = nx.hits(DG)\n",
    "cus_hub_dict, cus_auth_dict = custom_HITS(DG)\n",
    "\n",
    "# normalized by np.norm\n",
    "nx_hub_dict = np_normalize_dict(nx_hub_dict)\n",
    "nx_auth_dict = np_normalize_dict(nx_auth_dict)\n",
    "cus_hub_dict = np_normalize_dict(cus_hub_dict)\n",
    "cus_auth_dict = np_normalize_dict(cus_auth_dict)\n",
    "\n",
    "print(\"== nx authority, hub dictionary \")\n",
    "print(nx_auth_dict)\n",
    "print(nx_hub_dict)\n",
    "print(\"==\"*30)\n",
    "\n",
    "# Draw the graph\n",
    "# plt.figure(figsize=(10, 8))\n",
    "# pos = nx.spring_layout(DG)\n",
    "# nx.draw(DG, pos, with_labels=True, node_size=3000, node_color=\"skyblue\", font_size=10, font_color=\"black\", arrowsize=20)\n",
    "# plt.title(\"Directed Graph\")\n",
    "# plt.show()"
   ]
  },
  {
   "cell_type": "code",
   "execution_count": null,
   "id": "a3b479d0-37e2-430d-83cc-5a9088c6c948",
   "metadata": {},
   "outputs": [],
   "source": [
    "print(\"== custom authority, hub dictionary \")\n",
    "print(cus_auth_dict)\n",
    "print(cus_hub_dict)"
   ]
  },
  {
   "cell_type": "code",
   "execution_count": null,
   "id": "c63dad9f-0160-40dd-a01b-49a8321de64d",
   "metadata": {},
   "outputs": [],
   "source": [
    "hubs_df = pd.DataFrame(list(cus_hub_dict.items()), columns=['idx', 'hub_score'])\n",
    "authorities_df = pd.DataFrame(list(cus_auth_dict.items()), columns=['idx', 'authority_score'])\n",
    "print(hubs_df.sort_values(by='hub_score', ascending=False))\n",
    "print()\n",
    "print()\n",
    "print(authorities_df.sort_values(by='authority_score', ascending=False))"
   ]
  },
  {
   "cell_type": "code",
   "execution_count": null,
   "id": "817de810-9459-4c40-b9a4-7cff8bdef457",
   "metadata": {},
   "outputs": [],
   "source": [
    "print(hubs_df.sort_values(by='hub_score', ascending=True))\n",
    "print()\n",
    "print()\n",
    "print(authorities_df.sort_values(by='authority_score', ascending=True))"
   ]
  },
  {
   "cell_type": "code",
   "execution_count": null,
   "id": "358b5c6f-c5c0-4aac-acc6-076dc84d248a",
   "metadata": {},
   "outputs": [],
   "source": [
    "hubs_df = pd.DataFrame(list(nx_hub_dict.items()), columns=['idx', 'hub_score'])\n",
    "authorities_df = pd.DataFrame(list(nx_auth_dict.items()), columns=['idx', 'authority_score'])\n",
    "print(hubs_df.sort_values(by='hub_score', ascending=False))\n",
    "print()\n",
    "print()\n",
    "print(authorities_df.sort_values(by='authority_score', ascending=False))"
   ]
  },
  {
   "cell_type": "code",
   "execution_count": null,
   "id": "304b175d-a47e-48dc-92c3-b2af7d001012",
   "metadata": {},
   "outputs": [],
   "source": [
    "print(hubs_df.sort_values(by='hub_score', ascending=True))\n",
    "print()\n",
    "print()\n",
    "print(authorities_df.sort_values(by='authority_score', ascending=True))"
   ]
  },
  {
   "cell_type": "code",
   "execution_count": null,
   "id": "e66dca9b-51b4-448b-96ce-e56819e35e16",
   "metadata": {},
   "outputs": [],
   "source": [
    "cus_hub_dict == nx_hub_dict"
   ]
  },
  {
   "cell_type": "code",
   "execution_count": null,
   "id": "36c1ce56-5c5f-4de5-b050-1ace7af335a5",
   "metadata": {},
   "outputs": [],
   "source": [
    "cus_auth_dict == nx_auth_dict"
   ]
  }
 ],
 "metadata": {
  "kernelspec": {
   "display_name": "Python 3 (ipykernel)",
   "language": "python",
   "name": "python3"
  },
  "language_info": {
   "codemirror_mode": {
    "name": "ipython",
    "version": 3
   },
   "file_extension": ".py",
   "mimetype": "text/x-python",
   "name": "python",
   "nbconvert_exporter": "python",
   "pygments_lexer": "ipython3",
   "version": "3.9.13"
  }
 },
 "nbformat": 4,
 "nbformat_minor": 5
}
